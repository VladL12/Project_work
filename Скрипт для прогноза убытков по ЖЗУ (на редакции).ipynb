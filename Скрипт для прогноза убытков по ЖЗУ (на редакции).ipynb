{
 "cells": [
  {
   "cell_type": "code",
   "execution_count": 262,
   "id": "979ac290",
   "metadata": {},
   "outputs": [],
   "source": [
    "import pandas as pd\n",
    "import numpy as np\n",
    "import calendar\n",
    "\n",
    "# чтобы видеть все столбцы\n",
    "pd.set_option('display.max_columns', 100)"
   ]
  },
  {
   "cell_type": "markdown",
   "id": "eacde612",
   "metadata": {},
   "source": [
    "# Чтение файла"
   ]
  },
  {
   "cell_type": "code",
   "execution_count": 263,
   "id": "03c6d373",
   "metadata": {},
   "outputs": [],
   "source": [
    "date='2022.09.09'\n",
    "folder=date+'/'\n",
    "\n",
    "# Названия столбцов для ЖЗУ\n",
    "col_names=['№ дела/акта','Страхователь','№ полиса','первичный/возобновление',\n",
    "           'Застрахованный объект','Собственник пострадавшего имущества',\n",
    "           'Пострадавший объект','ПВУ','пву - тип', 'Дата начала полиса',\n",
    "           'Дата окончания полиса','Дата страхового случая',\n",
    "           'Дата поступления заявления о СС','Страховой случай',\n",
    "           'Дата закрытия','Дата отказа','Страховая сумма по риску','Вал-юта',\n",
    "           'Сумма заявленного убытка','Вал-юта', 'Поле1', 'Поле2',\n",
    "           'Тип обращения', 'Заявитель','Выгодоприобретатель']\n",
    "\n",
    "xl = pd.ExcelFile(folder+'жзу.xls')\n",
    "zhzu = pd.DataFrame()\n",
    "for sheet in xl.sheet_names:\n",
    "    sheet=pd.read_excel(xl,sheet,header=None,names=col_names,\n",
    "                        dtype={'Премия':float},parse_dates=date_columns)\n",
    "    zhzu = pd.concat([zhzu,sheet])\n",
    "    \n",
    "zhzu=zhzu[5:-2].drop_duplicates(subset=['№ дела/акта','№ полиса'])\n",
    "\n",
    "# Даты для ЖЗУ\n",
    "date_columns = ['Дата начала полиса', 'Дата окончания полиса',\n",
    "                'Дата страхового случая', 'Дата поступления заявления о СС', \n",
    "                'Дата закрытия', 'Дата отказа']\n",
    "\n",
    "for col in date_columns:\n",
    "#     zhzu[col]=zhzu[col].astype(object).where(zhzu[col].notnull(), None)\n",
    "    zhzu[col]=pd.to_datetime(zhzu[col])"
   ]
  },
  {
   "cell_type": "markdown",
   "id": "7f78a943",
   "metadata": {},
   "source": [
    "# PreProcessing"
   ]
  },
  {
   "cell_type": "markdown",
   "id": "1c1fa49a",
   "metadata": {},
   "source": [
    "## Обрезка по условиям + контроль кол-ва пустот"
   ]
  },
  {
   "cell_type": "code",
   "execution_count": 264,
   "id": "00d9654c",
   "metadata": {},
   "outputs": [
    {
     "name": "stdout",
     "output_type": "stream",
     "text": [
      "ВСЕ ОК!\n"
     ]
    }
   ],
   "source": [
    "nans=zhzu[zhzu['Дата поступления заявления о СС'].isna()].shape[0]\n",
    "if nans<=10:\n",
    "    zhzu=zhzu[zhzu['Дата поступления заявления о СС'].notna()]\n",
    "    print('ВСЕ ОК!')\n",
    "else: print('Проблема! Много пустых:',nans)\n",
    "\n",
    "shifr=pd.read_excel('классификаторы шифров.xlsx',dtype={'шифр': float})\n",
    "zhzu['шифр']=zhzu['№ полиса'].astype(str).str[:3].astype(float)\n",
    "zhzu=zhzu.merge(shifr,how='left',on='шифр')\n",
    "\n",
    "zhzu=zhzu[(zhzu['Линия бизнеса']!='02 - ОСАГО')|\n",
    "          ((zhzu['Линия бизнеса']=='02 - ОСАГО')&(zhzu['пву - тип']!='Прям'))]"
   ]
  },
  {
   "cell_type": "markdown",
   "id": "83e58fe5",
   "metadata": {},
   "source": [
    "## Проставление недели месяца и года"
   ]
  },
  {
   "cell_type": "code",
   "execution_count": 265,
   "id": "72e0646b",
   "metadata": {},
   "outputs": [],
   "source": [
    "#Месяц и год для сводной аут данных на текущий момент\n",
    "normizer=lambda dt: '0'+dt if len(dt)==1 else dt\n",
    "zhzu.loc[:,'год заявления']=zhzu['Дата поступления заявления о СС'].dt.year\n",
    "zhzu.loc[:,'год заявления']=zhzu['год заявления'].astype(str)\n",
    "zhzu.loc[:,'месяц заявления']=zhzu['Дата поступления заявления о СС'].dt.month\n",
    "zhzu.loc[:,'месяц заявления']=zhzu['месяц заявления'].astype(str).apply(normizer)"
   ]
  },
  {
   "cell_type": "code",
   "execution_count": 266,
   "id": "637e0d4e",
   "metadata": {},
   "outputs": [],
   "source": [
    "#Данная функция ставит номер недели в месяце\n",
    "#с учётом, что неделя считается с сб по пт\n",
    "#и неделя принадлежит тому месяцу, которому принадлежит ее пт\n",
    "#Если данный день в переменной принадлежит первой недели в этом месяце,\n",
    "#то будет 1, к i добавляется 1, так как i - это индекс, то есть N-1\n",
    "def order_in_time_maker(dt):\n",
    "    mth = calendar.monthcalendar(dt.year, dt.month)\n",
    "    #Распознаем номер недели\n",
    "    #Если день находится в неделе, где нет в конце пустых дней,\n",
    "    #то ставим номер недели\n",
    "    #иначе ставим 1, то есть начало в следующем месяце\n",
    "    for iwk, wk in enumerate(mth):\n",
    "        if dt.day in wk:\n",
    "            if wk[-1]!=0: iwk=iwk+1; mth=dt.month; year=dt.year; break\n",
    "            elif dt.month==12: iwk=1; mth=1; year=dt.year+1; break\n",
    "            else: iwk=1; mth=dt.month+1; year=dt.year; break\n",
    "        else: pass\n",
    "    return [str(year),str(mth),str(iwk)]\n",
    "\n",
    "#Обозначаем, что неделя начинается с сб (по логике алгоритма предсказания)\n",
    "calendar.setfirstweekday(calendar.SATURDAY)"
   ]
  },
  {
   "cell_type": "code",
   "execution_count": 267,
   "id": "640af428",
   "metadata": {
    "scrolled": true
   },
   "outputs": [],
   "source": [
    "#Ставим номер недели\n",
    "zhzu.loc[:,'субботы']=zhzu['Дата поступления заявления о СС']\n",
    "zhzu.loc[:,'субботы']=zhzu['субботы'].apply(order_in_time_maker)\n",
    "#Ставим месяц и год\n",
    "zhzu.loc[:,'месяц по субботам']=zhzu['субботы'].str[1].apply(normizer)\n",
    "zhzu.loc[:,'год по субботам']=zhzu['субботы'].str[0]\n",
    "#Ставим номер недели+месяц+год\n",
    "zhzu.loc[:,'субботы']=zhzu['год по субботам']+zhzu['месяц по субботам']+\\\n",
    "                      zhzu['субботы'].str[2]\n",
    "\n",
    "zhzu.loc[:,'субботы']=zhzu.loc[:,'субботы'].astype(int)\n",
    "#Создадим фрейм для нумерации недель подряд а не блоками в месяц\n",
    "#Отчет ведем с 04.01.2020 (суббота неделя вторая в месяце!)\n",
    "week_number_df=zhzu.loc[zhzu['субботы']>=2020012,'субботы'].unique()\n",
    "week_number_df.sort()\n",
    "week_number_df=pd.DataFrame(week_number_df,columns=['субботы'])\n",
    "week_number_df.loc[:,'неделя по субботам']=[i for i in range(1,len(week_number_df)+1)]\n",
    "#Проставим новый номер недели в zhzu\n",
    "zhzu=zhzu.merge(week_number_df,how='left',on='субботы')\n",
    "zhzu=zhzu[zhzu['неделя по субботам'].notna()]\n",
    "zhzu.loc[:,'неделя по субботам']=zhzu['неделя по субботам'].astype(int)"
   ]
  },
  {
   "cell_type": "markdown",
   "id": "a441be37",
   "metadata": {},
   "source": [
    "## Формирование сводных"
   ]
  },
  {
   "cell_type": "code",
   "execution_count": 268,
   "id": "fdec8819",
   "metadata": {},
   "outputs": [],
   "source": [
    "index=['год по субботам','месяц по субботам','неделя по субботам']\n",
    "\n",
    "pivot_sum_sub=zhzu.pivot_table('Сумма заявленного убытка',columns='Линия бизнеса',\n",
    "                               index=index, aggfunc='sum')\n",
    "\n",
    "pivot_count_sub=zhzu.pivot_table('№ дела/акта', columns='Линия бизнеса',\n",
    "                                 index=index, aggfunc='count')\n",
    "\n",
    "pivot_sum_sub=pivot_sum_sub.reset_index().sort_values(index)\n",
    "pivot_count_sub=pivot_count_sub.reset_index().sort_values(index)\n",
    "\n",
    "index=['год заявления','месяц заявления']\n",
    "\n",
    "pivot_sum_real=zhzu.pivot_table('Сумма заявленного убытка', columns='Линия бизнеса',\n",
    "                           index=index, aggfunc='sum')\n",
    "\n",
    "pivot_count_real=zhzu.pivot_table('№ дела/акта', columns='Линия бизнеса',\n",
    "                             index=index, aggfunc='count')\n",
    "\n",
    "pivot_sum_real=pivot_sum_real.reset_index().sort_values(index)\n",
    "pivot_count_real=pivot_count_real.reset_index().sort_values(index)"
   ]
  },
  {
   "cell_type": "markdown",
   "id": "c475dd08",
   "metadata": {},
   "source": [
    "# Прогнозирование"
   ]
  },
  {
   "cell_type": "markdown",
   "id": "2dce497e",
   "metadata": {},
   "source": [
    "## Формирование данных о суммах по ЛБ"
   ]
  },
  {
   "cell_type": "code",
   "execution_count": 269,
   "id": "01a4c377",
   "metadata": {},
   "outputs": [],
   "source": [
    "# index=['неделя по субботам','месяц по субботам','год по субботам']\n",
    "# index=index+pivot_sum_sub.columns[3:].values.tolist()\n",
    "# pivot_sum_sub=pivot_sum_sub[index]\n",
    "pivot_sum_sub.loc[:,'месяц по субботам']=pivot_sum_sub['месяц по субботам'].astype(int)\n",
    "pivot_sum_sub.loc[:,'год по субботам']=pivot_sum_sub['год по субботам'].astype(int)\n",
    "dataset_sum=pivot_sum_sub.replace(np.nan,0)"
   ]
  },
  {
   "cell_type": "code",
   "execution_count": 270,
   "id": "4630caf6",
   "metadata": {},
   "outputs": [],
   "source": [
    "dataset_mod_sum=dataset_sum.iloc[:,[0,1,2,3]]\n",
    "dataset_cmtpl_sum=dataset_sum.iloc[:,[0,1,2,4]]\n",
    "dataset_imushestvo_sum=dataset_sum.iloc[:,[0,1,2,6]]\n",
    "dataset_otv_sum=dataset_sum.iloc[:,[0,1,2,7]]\n",
    "dataset_gruz_sum=dataset_sum.iloc[:,[0,1,2,8]]\n",
    "dataset_vzr_sum=dataset_sum.iloc[:,[0,1,2,9]]\n",
    "dataset_ns_sum=dataset_sum.iloc[:,[0,1,2,10]]\n",
    "dataset_ipoteka_sum=dataset_sum.iloc[:,[0,1,2,11]]\n",
    "dataset_other_sum=dataset_sum.iloc[:,[0,1,2,12]]\n",
    "\n",
    "#КАСКО\n",
    "x_mod_sum=dataset_mod_sum.iloc[:,[0,1,2]]\n",
    "y_mod_sum=dataset_mod_sum.iloc[:, 3]\n",
    "\n",
    "#ОСАГО\n",
    "x_cmtpl_sum=dataset_cmtpl_sum.iloc[:,[0,1,2]]\n",
    "y_cmtpl_sum=dataset_cmtpl_sum.iloc[:, 3]\n",
    "\n",
    "#имущество\n",
    "x_imushestvo_sum=dataset_imushestvo_sum.iloc[:,[0,1,2]]\n",
    "y_imushestvo_sum=dataset_imushestvo_sum.iloc[:, 3]\n",
    "\n",
    "#ответственность\n",
    "x_otv_sum=dataset_otv_sum.iloc[:,[0,1,2]]\n",
    "y_otv_sum=dataset_otv_sum.iloc[:, 3]\n",
    "\n",
    "#грузы\n",
    "x_gruz_sum=dataset_gruz_sum.iloc[:,[0,1,2]]\n",
    "y_gruz_sum=dataset_gruz_sum.iloc[:, 3]\n",
    "\n",
    "#взр\n",
    "x_vzr_sum=dataset_vzr_sum.iloc[:,[0,1,2]]\n",
    "y_vzr_sum=dataset_vzr_sum.iloc[:, 3]\n",
    "\n",
    "#НС\n",
    "x_ns_sum=dataset_ns_sum.iloc[:,[0,1,2]]\n",
    "y_ns_sum=dataset_ns_sum.iloc[:, 3]\n",
    "\n",
    "#ипотека\n",
    "x_ipoteka_sum=dataset_ipoteka_sum.iloc[:,[0,1,2]]\n",
    "y_ipoteka_sum=dataset_ipoteka_sum.iloc[:, 3]\n",
    "\n",
    "#прочее\n",
    "x_other_sum=dataset_other_sum.iloc[:,[0,1,2]]\n",
    "y_other_sum=dataset_other_sum.iloc[:, 3]"
   ]
  },
  {
   "cell_type": "markdown",
   "id": "c8377d45",
   "metadata": {},
   "source": [
    "## Формирование данных о количествах по ЛБ"
   ]
  },
  {
   "cell_type": "code",
   "execution_count": 271,
   "id": "07032cc9",
   "metadata": {},
   "outputs": [],
   "source": [
    "# index=['неделя по субботам','месяц по субботам','год по субботам']\n",
    "# index=index+pivot_count_sub.columns[3:].values.tolist()\n",
    "# pivot_count_sub=pivot_count_sub[index]\n",
    "pivot_count_sub.loc[:,'месяц по субботам']=pivot_count_sub['месяц по субботам'].astype(int)\n",
    "pivot_count_sub.loc[:,'год по субботам']=pivot_count_sub['год по субботам'].astype(int)\n",
    "dataset_count=pivot_count_sub.replace(np.nan,0)"
   ]
  },
  {
   "cell_type": "code",
   "execution_count": 272,
   "id": "9bb3b47d",
   "metadata": {},
   "outputs": [],
   "source": [
    "dataset_mod_count=dataset_count.iloc[:,[0,1,2,3]]\n",
    "dataset_cmtpl_count=dataset_count.iloc[:,[0,1,2,4]]\n",
    "dataset_imushestvo_count=dataset_count.iloc[:,[0,1,2,6]]\n",
    "dataset_otv_count=dataset_count.iloc[:,[0,1,2,7]]\n",
    "dataset_gruz_count=dataset_count.iloc[:,[0,1,2,8]]\n",
    "dataset_vzr_count=dataset_count.iloc[:,[0,1,2,9]]\n",
    "dataset_ns_count=dataset_count.iloc[:,[0,1,2,10]]\n",
    "dataset_ipoteka_count=dataset_count.iloc[:,[0,1,2,11]]\n",
    "dataset_other_count=dataset_count.iloc[:,[0,1,2,12]]\n",
    "\n",
    "#КАСКО\n",
    "x_mod_count=dataset_mod_count.iloc[:,[0,1,2]]\n",
    "y_mod_count=dataset_mod_count.iloc[:, 3]\n",
    "\n",
    "#ОСАГО\n",
    "x_cmtpl_count=dataset_cmtpl_count.iloc[:,[0,1,2]]\n",
    "y_cmtpl_count=dataset_cmtpl_count.iloc[:, 3]\n",
    "\n",
    "#имущество\n",
    "x_imushestvo_count=dataset_imushestvo_count.iloc[:,[0,1,2]]\n",
    "y_imushestvo_count=dataset_imushestvo_count.iloc[:, 3]\n",
    "\n",
    "#ответственность\n",
    "x_otv_count=dataset_otv_count.iloc[:,[0,1,2]]\n",
    "y_otv_count=dataset_otv_count.iloc[:, 3]\n",
    "\n",
    "#грузы\n",
    "x_gruz_count=dataset_gruz_count.iloc[:,[0,1,2]]\n",
    "y_gruz_count=dataset_gruz_count.iloc[:, 3]\n",
    "\n",
    "#взр\n",
    "x_vzr_count=dataset_vzr_count.iloc[:,[0,1,2]]\n",
    "y_vzr_count=dataset_vzr_count.iloc[:, 3]\n",
    "\n",
    "#НС\n",
    "x_ns_count=dataset_ns_count.iloc[:,[0,1,2]]\n",
    "y_ns_count=dataset_ns_count.iloc[:, 3]\n",
    "\n",
    "#ипотека\n",
    "x_ipoteka_count=dataset_ipoteka_count.iloc[:,[0,1,2]]\n",
    "y_ipoteka_count=dataset_ipoteka_count.iloc[:, 3]\n",
    "\n",
    "#прочее\n",
    "x_other_count=dataset_other_count.iloc[:,[0,1,2]]\n",
    "y_other_count=dataset_other_count.iloc[:, 3]"
   ]
  },
  {
   "cell_type": "code",
   "execution_count": null,
   "id": "c13eafa7",
   "metadata": {},
   "outputs": [],
   "source": [
    "Делаю массив недель для прогнозного МЕСЯЦА"
   ]
  },
  {
   "cell_type": "code",
   "execution_count": 291,
   "id": "ed3a461b",
   "metadata": {},
   "outputs": [],
   "source": [
    "#Дата сегодня\n",
    "# today=pd.Timestamp('today')\n",
    "#Для проверок функции\n",
    "today=pd.to_datetime('30-09-2022',format='%d-%m-%Y')\n",
    "#Массив недель этого месяца\n",
    "mth=calendar.monthcalendar(today.year, today.month)\n",
    "if today.day==mth[-1][-1]:\n",
    "    if today.month==12: mth=calendar.monthcalendar(today.year+1, 1)\n",
    "    else: mth=calendar.monthcalendar(today.year, today.month+1)\n",
    "else:\n",
    "    for iwk, wk in enumerate(mth):\n",
    "        \n",
    "        if today.day in wk:\n",
    "            if wk[-1]!=0: iwk=iwk+1; month=today.month; year=today.year; break\n",
    "            elif today.month==12: iwk=iwk+1; month=1; year=today.year+1; break\n",
    "            else: iwk=iwk+1; month=today.month+1; year=today.year; break\n",
    "        else: pass"
   ]
  },
  {
   "cell_type": "code",
   "execution_count": 292,
   "id": "1ca3ce21",
   "metadata": {},
   "outputs": [
    {
     "data": {
      "text/plain": [
       "[[1, 2, 3, 4, 5, 6, 7],\n",
       " [8, 9, 10, 11, 12, 13, 14],\n",
       " [15, 16, 17, 18, 19, 20, 21],\n",
       " [22, 23, 24, 25, 26, 27, 28],\n",
       " [29, 30, 31, 0, 0, 0, 0]]"
      ]
     },
     "execution_count": 292,
     "metadata": {},
     "output_type": "execute_result"
    }
   ],
   "source": [
    "mth"
   ]
  },
  {
   "cell_type": "code",
   "execution_count": null,
   "id": "eba40f6a",
   "metadata": {},
   "outputs": [],
   "source": []
  },
  {
   "cell_type": "code",
   "execution_count": null,
   "id": "27f85256",
   "metadata": {},
   "outputs": [],
   "source": []
  },
  {
   "cell_type": "code",
   "execution_count": 282,
   "id": "ba358514",
   "metadata": {},
   "outputs": [],
   "source": [
    "#Дата сегодня\n",
    "# today=pd.Timestamp('today')\n",
    "#Для проверок функции\n",
    "today=pd.to_datetime('01-10-2022',format='%d-%m-%Y')\n",
    "#Массив недель этого месяца\n",
    "mth=calendar.monthcalendar(today.year, today.month)\n",
    "# if today.day==mth[-1][-1]:\n",
    "#     if today.month==12: mth=calendar.monthcalendar(today.year+1, 1)\n",
    "#     else: mth=calendar.monthcalendar(today.year, today.month+1)\n",
    "    \n",
    "# else: pass\n",
    "#Определим номер текущей недели\n",
    "for iwk, wk in enumerate(mth):\n",
    "    if today.day in wk:\n",
    "        [0,0,0,0,0,0,0]\n",
    "        \n",
    "        if wk[-1]!=0: iwk=iwk+1; month=today.month; year=today.year; break\n",
    "        elif today.month==12: iwk=iwk+1; month=1; year=today.year+1; break\n",
    "        else: iwk=iwk+1; month=today.month+1; year=today.year; break\n",
    "    else: pass\n",
    "#Определим номер следующей недели в прогнозе\n",
    "next_wk=zhzu.loc[zhzu['неделя по субботам'].notna(),\n",
    "                 'неделя по субботам'].astype('int').max()+1\n",
    "\n",
    "x_test=[]\n",
    "#Каждую оставшуюся неделю в месяце добавим для прогноза\n",
    "for wk in range(next_wk,next_wk+len(mth)-iwk):\n",
    "    x_test.append([year,month,wk])\n",
    "x_test=pd.DataFrame(x_test,columns=['год по субботам','месяц по субботам',\n",
    "                                    'неделя по субботам'])"
   ]
  },
  {
   "cell_type": "code",
   "execution_count": 285,
   "id": "99c114e8",
   "metadata": {},
   "outputs": [],
   "source": [
    "#Дата сегодня\n",
    "# today=pd.Timestamp('today')\n",
    "#Для проверок функции\n",
    "today=pd.to_datetime('01-10-2022',format='%d-%m-%Y')\n",
    "#Массив недель этого месяца\n",
    "mth=calendar.monthcalendar(today.year, today.month)\n",
    "if today.day==mth[-1][-1]:\n",
    "    if today.month==12:\n",
    "        today=pd.to_datetime('01-'+'01-'+str(today.year+1),format='%d-%m-%Y')\n",
    "        mth=calendar.monthcalendar(today.year, today.month)\n",
    "    else:\n",
    "        today=pd.to_datetime('01-'+str(today.month+1)+'-'+str(today.year),format='%d-%m-%Y')\n",
    "        mth=calendar.monthcalendar(today.year, today.month)\n",
    "else: pass\n"
   ]
  },
  {
   "cell_type": "code",
   "execution_count": null,
   "id": "8c2bce73",
   "metadata": {},
   "outputs": [],
   "source": [
    "order_in_time_maker(dt)"
   ]
  },
  {
   "cell_type": "code",
   "execution_count": 286,
   "id": "078750e1",
   "metadata": {},
   "outputs": [
    {
     "data": {
      "text/plain": [
       "[[1, 2, 3, 4, 5, 6, 7],\n",
       " [8, 9, 10, 11, 12, 13, 14],\n",
       " [15, 16, 17, 18, 19, 20, 21],\n",
       " [22, 23, 24, 25, 26, 27, 28],\n",
       " [29, 30, 31, 0, 0, 0, 0]]"
      ]
     },
     "execution_count": 286,
     "metadata": {},
     "output_type": "execute_result"
    }
   ],
   "source": [
    "mth"
   ]
  },
  {
   "cell_type": "code",
   "execution_count": 283,
   "id": "715987a9",
   "metadata": {},
   "outputs": [
    {
     "data": {
      "text/html": [
       "<div>\n",
       "<style scoped>\n",
       "    .dataframe tbody tr th:only-of-type {\n",
       "        vertical-align: middle;\n",
       "    }\n",
       "\n",
       "    .dataframe tbody tr th {\n",
       "        vertical-align: top;\n",
       "    }\n",
       "\n",
       "    .dataframe thead th {\n",
       "        text-align: right;\n",
       "    }\n",
       "</style>\n",
       "<table border=\"1\" class=\"dataframe\">\n",
       "  <thead>\n",
       "    <tr style=\"text-align: right;\">\n",
       "      <th></th>\n",
       "      <th>год по субботам</th>\n",
       "      <th>месяц по субботам</th>\n",
       "      <th>неделя по субботам</th>\n",
       "    </tr>\n",
       "  </thead>\n",
       "  <tbody>\n",
       "    <tr>\n",
       "      <th>0</th>\n",
       "      <td>2022</td>\n",
       "      <td>10</td>\n",
       "      <td>141</td>\n",
       "    </tr>\n",
       "    <tr>\n",
       "      <th>1</th>\n",
       "      <td>2022</td>\n",
       "      <td>10</td>\n",
       "      <td>142</td>\n",
       "    </tr>\n",
       "    <tr>\n",
       "      <th>2</th>\n",
       "      <td>2022</td>\n",
       "      <td>10</td>\n",
       "      <td>143</td>\n",
       "    </tr>\n",
       "    <tr>\n",
       "      <th>3</th>\n",
       "      <td>2022</td>\n",
       "      <td>10</td>\n",
       "      <td>144</td>\n",
       "    </tr>\n",
       "  </tbody>\n",
       "</table>\n",
       "</div>"
      ],
      "text/plain": [
       "   год по субботам  месяц по субботам  неделя по субботам\n",
       "0             2022                 10                 141\n",
       "1             2022                 10                 142\n",
       "2             2022                 10                 143\n",
       "3             2022                 10                 144"
      ]
     },
     "execution_count": 283,
     "metadata": {},
     "output_type": "execute_result"
    }
   ],
   "source": [
    "x_test"
   ]
  },
  {
   "cell_type": "markdown",
   "id": "c165a288",
   "metadata": {},
   "source": [
    "## Прогнозирование с помощью ML"
   ]
  },
  {
   "cell_type": "code",
   "execution_count": 274,
   "id": "6b4fd55e",
   "metadata": {},
   "outputs": [],
   "source": [
    "from lightgbm import LGBMRegressor\n",
    "model_mod_sum = LGBMRegressor()\n",
    "model_mod_sum.fit(x_mod_sum,y_mod_sum)\n",
    "y_pred_mod_sum=model_mod_sum.predict(x_test)\n",
    "\n",
    "model_mod_count = LGBMRegressor()\n",
    "model_mod_count.fit(x_mod_count,y_mod_count)\n",
    "y_pred_mod_count=model_mod_count.predict(x_test)\n",
    "\n",
    "\n",
    "model_cmtpl_sum = LGBMRegressor()\n",
    "model_cmtpl_sum.fit(x_cmtpl_sum,y_cmtpl_sum)\n",
    "y_pred_cmtpl_sum=model_cmtpl_sum.predict(x_test)\n",
    "\n",
    "model_cmtpl_count = LGBMRegressor()\n",
    "model_cmtpl_count.fit(x_cmtpl_count,y_cmtpl_count)\n",
    "y_pred_cmtpl_count=model_cmtpl_count.predict(x_test)\n",
    "\n",
    "\n",
    "model_imushestvo_sum = LGBMRegressor()\n",
    "model_imushestvo_sum.fit(x_imushestvo_sum,y_imushestvo_sum)\n",
    "y_pred_imushestvo_sum=model_imushestvo_sum.predict(x_test)\n",
    "\n",
    "model_imushestvo_count = LGBMRegressor()\n",
    "model_imushestvo_count.fit(x_imushestvo_count,y_imushestvo_count)\n",
    "y_pred_imushestvo_count=model_imushestvo_count.predict(x_test)\n",
    "\n",
    "\n",
    "model_otv_sum = LGBMRegressor()\n",
    "model_otv_sum.fit(x_otv_sum,y_otv_sum)\n",
    "y_pred_otv_sum=model_otv_sum.predict(x_test)\n",
    "\n",
    "model_otv_count = LGBMRegressor()\n",
    "model_otv_count.fit(x_otv_count,y_otv_count)\n",
    "y_pred_otv_count=model_otv_count.predict(x_test)\n",
    "\n",
    "\n",
    "model_gruz_sum = LGBMRegressor()\n",
    "model_gruz_sum.fit(x_gruz_sum,y_gruz_sum)\n",
    "y_pred_gruz_sum=model_gruz_sum.predict(x_test)\n",
    "\n",
    "model_gruz_count = LGBMRegressor()\n",
    "model_gruz_count.fit(x_gruz_count,y_gruz_count)\n",
    "y_pred_gruz_count=model_gruz_count.predict(x_test)\n",
    "\n",
    "\n",
    "model_vzr_sum = LGBMRegressor()\n",
    "model_vzr_sum.fit(x_vzr_sum,y_vzr_sum)\n",
    "y_pred_vzr_sum=model_vzr_sum.predict(x_test)\n",
    "\n",
    "model_vzr_count = LGBMRegressor()\n",
    "model_vzr_count.fit(x_vzr_count,y_vzr_count)\n",
    "y_pred_vzr_count=model_vzr_count.predict(x_test)\n",
    "\n",
    "\n",
    "model_ipoteka_sum = LGBMRegressor()\n",
    "model_ipoteka_sum.fit(x_ipoteka_sum,y_ipoteka_sum)\n",
    "y_pred_ipoteka_sum=model_ipoteka_sum.predict(x_test)\n",
    "\n",
    "model_ipoteka_count = LGBMRegressor()\n",
    "model_ipoteka_count.fit(x_ipoteka_count,y_ipoteka_count)\n",
    "y_pred_ipoteka_count=model_ipoteka_count.predict(x_test)\n",
    "\n",
    "\n",
    "from xgboost import XGBRegressor\n",
    "model_ns_sum = XGBRegressor()\n",
    "model_ns_sum.fit(x_ns_sum,y_ns_sum)\n",
    "y_pred_ns_sum=model_ns_sum.predict(x_test)\n",
    "\n",
    "model_ns_count = XGBRegressor()\n",
    "model_ns_count.fit(x_ns_count,y_ns_count)\n",
    "y_pred_ns_count=model_ns_count.predict(x_test)\n",
    "\n",
    "\n",
    "model_other_sum = XGBRegressor()\n",
    "model_other_sum.fit(x_other_sum,y_other_sum)\n",
    "y_pred_other_sum=model_other_sum.predict(x_test)\n",
    "\n",
    "model_other_count = XGBRegressor()\n",
    "model_other_count.fit(x_other_count,y_other_count)\n",
    "y_pred_other_count=model_other_count.predict(x_test)"
   ]
  },
  {
   "cell_type": "code",
   "execution_count": 275,
   "id": "75eb5144",
   "metadata": {},
   "outputs": [],
   "source": [
    "col_names=['01 - КАСКО','02 - ОСАГО','04 - Имущество','05 - Ответственность',\n",
    "           '06 - Грузы','07 - ВЗР','08 - НС','09 - Ипотека','10 - Прочее']\n",
    "\n",
    "sum_data=np.array([y_pred_mod_sum,y_pred_cmtpl_sum,\n",
    "                   y_pred_imushestvo_sum,y_pred_otv_sum,\n",
    "                   y_pred_gruz_sum,y_pred_vzr_sum,y_pred_ns_sum,\n",
    "                   y_pred_ipoteka_sum,y_pred_other_sum]).T\n",
    "\n",
    "y_pred_sum=pd.DataFrame(sum_data, columns=col_names)\n",
    "y_pred_sum=pd.concat([x_test,y_pred_sum],axis=1)\n",
    "pivot_sum_sub=pd.concat([pivot_sum_sub,y_pred_sum])\n",
    "\n",
    "count_data=np.array([y_pred_mod_count,y_pred_cmtpl_count,\n",
    "                   y_pred_imushestvo_count,y_pred_otv_count,\n",
    "                   y_pred_gruz_count,y_pred_vzr_count,y_pred_ns_count,\n",
    "                   y_pred_ipoteka_count,y_pred_other_count]).T\n",
    "\n",
    "y_pred_count=pd.DataFrame(count_data, columns=col_names)\n",
    "y_pred_count=pd.concat([x_test,y_pred_count],axis=1)\n",
    "pivot_count_sub=pd.concat([pivot_count_sub,y_pred_count])"
   ]
  },
  {
   "cell_type": "markdown",
   "id": "6b056228",
   "metadata": {},
   "source": [
    "# Поменять местами!!!"
   ]
  },
  {
   "cell_type": "code",
   "execution_count": 278,
   "id": "8c8300ef",
   "metadata": {},
   "outputs": [],
   "source": [
    "with pd.ExcelWriter(folder+date+'_out_данные.xlsx') as writer:  \n",
    "    pivot_sum_sub.to_excel(writer,sheet_name='суммы',index=False)\n",
    "    pivot_count_sub.to_excel(writer,sheet_name='кол-во',index=False)\n",
    "    pivot_sum_real.to_excel(writer,sheet_name='суммы по месяцам',index=False)\n",
    "    pivot_count_real.to_excel(writer,sheet_name='кол-во по месяцам',index=False)\n",
    "\n",
    "zhzu.to_excel(folder+date+'_zhzu_out.xlsx')"
   ]
  },
  {
   "cell_type": "code",
   "execution_count": null,
   "id": "ee67fca5",
   "metadata": {},
   "outputs": [],
   "source": []
  }
 ],
 "metadata": {
  "kernelspec": {
   "display_name": "Python 3 (ipykernel)",
   "language": "python",
   "name": "python3"
  },
  "language_info": {
   "codemirror_mode": {
    "name": "ipython",
    "version": 3
   },
   "file_extension": ".py",
   "mimetype": "text/x-python",
   "name": "python",
   "nbconvert_exporter": "python",
   "pygments_lexer": "ipython3",
   "version": "3.9.7"
  }
 },
 "nbformat": 4,
 "nbformat_minor": 5
}
